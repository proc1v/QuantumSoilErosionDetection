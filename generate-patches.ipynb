{
 "cells": [
  {
   "cell_type": "code",
   "execution_count": 60,
   "metadata": {},
   "outputs": [],
   "source": [
    "import os\n",
    "\n",
    "import numpy as np\n",
    "import cv2\n",
    "\n",
    "from sklearn.model_selection import train_test_split\n",
    "\n",
    "from patchify import patchify\n",
    "\n",
    "import rasterio\n",
    "from rasterio.plot import reshape_as_image\n",
    "\n",
    "import albumentations as A\n",
    "\n",
    "PATCH_WIDTH = 128"
   ]
  },
  {
   "cell_type": "code",
   "execution_count": 61,
   "metadata": {},
   "outputs": [],
   "source": [
    "raster_path = \"data/T36UXV_20200406T083559_TCI_10m.jp2\"\n",
    "mask_path = \"data/train.jp2\"\n",
    "\n",
    "with rasterio.open(raster_path, \"r\", driver=\"JP2OpenJPEG\") as src:\n",
    "    raster_img = src.read()\n",
    "    raster_meta = src.meta\n",
    "\n",
    "with rasterio.open(mask_path, \"r\", driver=\"JP2OpenJPEG\") as src:\n",
    "    mask_img = src.read()\n",
    "    mask_meta = src.meta"
   ]
  },
  {
   "cell_type": "code",
   "execution_count": 62,
   "metadata": {},
   "outputs": [],
   "source": [
    "raster_img = reshape_as_image(raster_img)\n",
    "mask_img = reshape_as_image(mask_img)"
   ]
  },
  {
   "cell_type": "code",
   "execution_count": 63,
   "metadata": {},
   "outputs": [],
   "source": [
    "IM_WIDTH = IM_HEIGHT = 10752\n",
    "raster_img = cv2.resize(raster_img, (IM_HEIGHT, IM_WIDTH))\n",
    "mask_img = cv2.resize(mask_img, (IM_HEIGHT, IM_WIDTH))\n",
    "mask_img = np.expand_dims(mask_img, axis=2)\n",
    "\n",
    "raster_patches = patchify(raster_img, (PATCH_WIDTH, PATCH_WIDTH, 3), PATCH_WIDTH)\n",
    "mask_patches = patchify(mask_img, (PATCH_WIDTH, PATCH_WIDTH, 1), PATCH_WIDTH)"
   ]
  },
  {
   "cell_type": "code",
   "execution_count": 64,
   "metadata": {},
   "outputs": [
    {
     "data": {
      "text/plain": [
       "(84, numpy.ndarray, (84, 84, 1, 128, 128, 3))"
      ]
     },
     "execution_count": 64,
     "metadata": {},
     "output_type": "execute_result"
    }
   ],
   "source": [
    "len(raster_patches), type(raster_patches), raster_patches.shape"
   ]
  },
  {
   "cell_type": "code",
   "execution_count": 65,
   "metadata": {},
   "outputs": [
    {
     "data": {
      "text/plain": [
       "14.7"
      ]
     },
     "execution_count": 65,
     "metadata": {},
     "output_type": "execute_result"
    }
   ],
   "source": [
    "42*0.35"
   ]
  },
  {
   "cell_type": "code",
   "execution_count": 66,
   "metadata": {},
   "outputs": [],
   "source": [
    "raster_patches_train, raster_patches_test, mask_patches_train, mask_patches_test = \\\n",
    "    train_test_split(raster_patches, mask_patches, test_size=0.3, random_state=42)"
   ]
  },
  {
   "cell_type": "code",
   "execution_count": 67,
   "metadata": {},
   "outputs": [
    {
     "data": {
      "text/plain": [
       "(26, numpy.ndarray, (26, 84, 1, 128, 128, 3))"
      ]
     },
     "execution_count": 67,
     "metadata": {},
     "output_type": "execute_result"
    }
   ],
   "source": [
    "len(raster_patches_test), type(raster_patches_test), raster_patches_test.shape"
   ]
  },
  {
   "cell_type": "code",
   "execution_count": 68,
   "metadata": {},
   "outputs": [
    {
     "data": {
      "text/plain": [
       "(58, numpy.ndarray, (58, 84, 1, 128, 128, 3))"
      ]
     },
     "execution_count": 68,
     "metadata": {},
     "output_type": "execute_result"
    }
   ],
   "source": [
    "len(raster_patches_train), type(raster_patches_train), raster_patches_train.shape"
   ]
  },
  {
   "cell_type": "code",
   "execution_count": 69,
   "metadata": {},
   "outputs": [],
   "source": [
    "transform = A.Compose([\n",
    "    A.HorizontalFlip(p=0.5),\n",
    "    A.VerticalFlip(p=0.5),\n",
    "    A.GridDistortion(p=0.5)\n",
    "])"
   ]
  },
  {
   "cell_type": "code",
   "execution_count": 70,
   "metadata": {},
   "outputs": [],
   "source": [
    "m, n, *_ = raster_patches_train.shape\n",
    "train_path = 'data/patches/train/augmentation_0'\n",
    "os.makedirs(train_path, exist_ok=True)\n",
    "os.makedirs(os.path.join(train_path, \"images\"), exist_ok=True)\n",
    "os.makedirs(os.path.join(train_path, \"masks\"), exist_ok=True)\n",
    "\n",
    "for i in range(m):\n",
    "    for j in range(n):\n",
    "        raster_patch = raster_patches_train[i, j, 0]\n",
    "        mask_patch = mask_patches_train[i, j, 0]\n",
    "\n",
    "        cv2.imwrite(os.path.join(train_path, \"images\", f\"patch_{i}_{j}.jpg\"), cv2.cvtColor(raster_patch, cv2.COLOR_RGB2BGR))\n",
    "        cv2.imwrite(os.path.join(train_path, \"masks\", f\"mask_{i}_{j}.jpg\"), cv2.cvtColor(mask_patch, cv2.COLOR_RGB2BGR))"
   ]
  },
  {
   "cell_type": "code",
   "execution_count": null,
   "metadata": {},
   "outputs": [],
   "source": [
    "m, n, *_ = raster_patches_test.shape\n",
    "test_path = 'data/patches/test'\n",
    "os.makedirs(test_path, exist_ok=True)\n",
    "os.makedirs(os.path.join(test_path, \"images\"), exist_ok=True)\n",
    "os.makedirs(os.path.join(test_path, \"masks\"), exist_ok=True)\n",
    "\n",
    "for i in range(m):\n",
    "    for j in range(n):\n",
    "        raster_patch = raster_patches_test[i, j, 0]\n",
    "        mask_patch = mask_patches_test[i, j, 0]\n",
    "\n",
    "        cv2.imwrite(os.path.join(test_path, \"images\", f\"patch_{i}_{j}.jpg\"), cv2.cvtColor(raster_patch, cv2.COLOR_RGB2BGR))\n",
    "        cv2.imwrite(os.path.join(test_path, \"masks\", f\"mask_{i}_{j}.jpg\"), cv2.cvtColor(mask_patch, cv2.COLOR_RGB2BGR))"
   ]
  },
  {
   "cell_type": "code",
   "execution_count": null,
   "metadata": {},
   "outputs": [],
   "source": [
    "augmentations = 4\n",
    "for a in range(1, augmentations+1):\n",
    "\n",
    "    augmentation_path = f\"data/patches/train/augmentation_{a}\"\n",
    "    os.makedirs(augmentation_path, exist_ok=True)\n",
    "    os.makedirs(os.path.join(augmentation_path, \"images\"), exist_ok=True)\n",
    "    os.makedirs(os.path.join(augmentation_path, \"masks\"), exist_ok=True)\n",
    "\n",
    "    for i in range(m):\n",
    "        for j in range(n):\n",
    "            raster_patch = raster_patches_train[i, j, 0]\n",
    "            mask_patch = mask_patches_train[i, j, 0]\n",
    "            transformed = transform(image=raster_patch, mask=mask_patch)\n",
    "\n",
    "            fname = f\"patch_raster_{i}_{j}.png\"\n",
    "            cv2.imwrite(os.path.join(augmentation_path, \"images\", fname), cv2.cvtColor(transformed['image'], cv2.COLOR_RGB2BGR))\n",
    "\n",
    "            fname = f\"patch_mask_{i}_{j}.png\"\n",
    "            cv2.imwrite(os.path.join(augmentation_path, \"masks\", fname), cv2.cvtColor(transformed['mask'], cv2.COLOR_RGB2BGR))\n"
   ]
  },
  {
   "cell_type": "code",
   "execution_count": null,
   "metadata": {},
   "outputs": [],
   "source": []
  }
 ],
 "metadata": {
  "kernelspec": {
   "display_name": "ml-intro",
   "language": "python",
   "name": "python3"
  },
  "language_info": {
   "codemirror_mode": {
    "name": "ipython",
    "version": 3
   },
   "file_extension": ".py",
   "mimetype": "text/x-python",
   "name": "python",
   "nbconvert_exporter": "python",
   "pygments_lexer": "ipython3",
   "version": "3.11.0"
  },
  "orig_nbformat": 4
 },
 "nbformat": 4,
 "nbformat_minor": 2
}
